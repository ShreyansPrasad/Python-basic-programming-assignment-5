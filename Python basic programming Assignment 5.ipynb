{
 "cells": [
  {
   "cell_type": "markdown",
   "id": "1dffea6f",
   "metadata": {},
   "source": [
    "#Answer1"
   ]
  },
  {
   "cell_type": "code",
   "execution_count": 6,
   "id": "a5d782b2",
   "metadata": {},
   "outputs": [
    {
     "name": "stdout",
     "output_type": "stream",
     "text": [
      "Enter 1st no.: 5\n",
      "Enter 2nd no.: 4\n",
      "LCM is :  20\n"
     ]
    }
   ],
   "source": [
    "a=int(input(\"Enter 1st no.: \"))\n",
    "b=int(input(\"Enter 2nd no.: \"))\n",
    "if a>b:\n",
    "    greater = a\n",
    "else:\n",
    "    greater = b\n",
    "while True:\n",
    "    if (greater%a==0) and (greater%b==0):\n",
    "        print(\"LCM is : \",greater)\n",
    "        break\n",
    "    else:\n",
    "        greater=greater+1"
   ]
  },
  {
   "cell_type": "markdown",
   "id": "d29a1514",
   "metadata": {},
   "source": [
    "#Answer2"
   ]
  },
  {
   "cell_type": "code",
   "execution_count": 14,
   "id": "b5734c47",
   "metadata": {},
   "outputs": [
    {
     "name": "stdout",
     "output_type": "stream",
     "text": [
      "enter 1st no. :5\n",
      "enter 2nd no. :4\n",
      "HCF is:  1\n"
     ]
    }
   ],
   "source": [
    "a=int(input(\"enter 1st no. :\"))\n",
    "b=int(input(\"enter 2nd no. :\"))\n",
    "if a>b:\n",
    "    smaller=b\n",
    "else:\n",
    "    smaller=a\n",
    "for i in range(1,smaller+1):\n",
    "    if (a%i==0) and (b%i==0):\n",
    "        hcf=i\n",
    "print(\"HCF is: \", hcf)"
   ]
  },
  {
   "cell_type": "markdown",
   "id": "a1706304",
   "metadata": {},
   "source": [
    "#Answer3"
   ]
  },
  {
   "cell_type": "code",
   "execution_count": 15,
   "id": "2b280337",
   "metadata": {},
   "outputs": [
    {
     "name": "stdout",
     "output_type": "stream",
     "text": [
      "enter no. in decimal: 344\n",
      "Binary form of no. is:  0b101011000\n",
      "Octal form of no. is:  0o530\n",
      "Hexadecimal form of no. is:  0x158\n"
     ]
    }
   ],
   "source": [
    "n=int(input(\"enter no. in decimal: \"))\n",
    "print(\"Binary form of no. is: \", bin(n))\n",
    "print(\"Octal form of no. is: \", oct(n))\n",
    "print(\"Hexadecimal form of no. is: \", hex(n))"
   ]
  },
  {
   "cell_type": "code",
   "execution_count": 16,
   "id": "bb6a6834",
   "metadata": {},
   "outputs": [
    {
     "name": "stdout",
     "output_type": "stream",
     "text": [
      "The ASCII value of a character is:  77\n"
     ]
    }
   ],
   "source": [
    "a=\"M\"\n",
    "print(\"The ASCII value of a character is: \", ord(a))"
   ]
  },
  {
   "cell_type": "markdown",
   "id": "ab51fb3a",
   "metadata": {},
   "source": [
    "#Answer5"
   ]
  },
  {
   "cell_type": "code",
   "execution_count": 24,
   "id": "a1370b81",
   "metadata": {},
   "outputs": [
    {
     "name": "stdout",
     "output_type": "stream",
     "text": [
      "Operation: \n",
      "1: Addition \n",
      "2: Subtraction \n",
      "3: Multiplication \n",
      "4: Division\n",
      "Select operation: 3\n",
      "enter 1st no. :9\n",
      "enter 2nd no. : 8\n",
      "multiplication = 72\n"
     ]
    }
   ],
   "source": [
    "print(\"Operation: \\n\"\n",
    "     \"1: Addition \\n\"\n",
    "     \"2: Subtraction \\n\"\n",
    "    \"3: Multiplication \\n\"\n",
    "     \"4: Division\")\n",
    "select= int(input(\"Select operation: \"))\n",
    "if select<5:\n",
    "    a=int(input(\"enter 1st no. :\"))\n",
    "    b=int(input(\"enter 2nd no. : \"))\n",
    "    if select==1:\n",
    "        print(\"Addition =\", a+b)\n",
    "    elif select==2:\n",
    "        print(\"subtraction =\", a-b)\n",
    "    elif select==3:\n",
    "        print(\"multiplication =\", a*b)\n",
    "    elif select==4:\n",
    "        print(\"division =\", a/b)\n",
    "else:\n",
    "    print(\"enter from 1 to 4\")"
   ]
  }
 ],
 "metadata": {
  "kernelspec": {
   "display_name": "Python 3 (ipykernel)",
   "language": "python",
   "name": "python3"
  },
  "language_info": {
   "codemirror_mode": {
    "name": "ipython",
    "version": 3
   },
   "file_extension": ".py",
   "mimetype": "text/x-python",
   "name": "python",
   "nbconvert_exporter": "python",
   "pygments_lexer": "ipython3",
   "version": "3.9.7"
  }
 },
 "nbformat": 4,
 "nbformat_minor": 5
}
